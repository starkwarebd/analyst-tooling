{
 "cells": [
  {
   "cell_type": "code",
   "execution_count": 1,
   "id": "856b5496",
   "metadata": {},
   "outputs": [],
   "source": [
    "import os \n",
    "import json\n",
    "import pandas as pd\n",
    "from datetime import datetime"
   ]
  },
  {
   "cell_type": "code",
   "execution_count": 2,
   "id": "8f0d1a16",
   "metadata": {},
   "outputs": [],
   "source": [
    "# Function to flatten the nested dictionary\n",
    "def flatten_dict(d, parent_key='', sep='_'):\n",
    "    items = []\n",
    "    for k, v in d.items():\n",
    "        new_key = f'{parent_key}{sep}{k}' if parent_key else k\n",
    "        if isinstance(v, dict):\n",
    "            items.extend(flatten_dict(v, new_key, sep=sep).items())\n",
    "        else:\n",
    "            items.append((new_key, v))\n",
    "    return dict(items)\n"
   ]
  },
  {
   "cell_type": "code",
   "execution_count": 3,
   "id": "477bc799",
   "metadata": {},
   "outputs": [],
   "source": [
    "def find_customer_keys(json_data):\n",
    "    customer_keys = []\n",
    "    for key, value in json_data.items():  # this iterates through top level keys, but it is sufficient enough \n",
    "        if isinstance(value, dict) and any(sub_key.startswith(\"gcp-\") for sub_key in value):\n",
    "            customer_keys.append(key)\n",
    "    return customer_keys\n"
   ]
  },
  {
   "cell_type": "code",
   "execution_count": 4,
   "id": "b2a793ac",
   "metadata": {},
   "outputs": [],
   "source": [
    "def json_to_csv(json_data):\n",
    "    # Initialize an empty DataFrame\n",
    "    df = pd.DataFrame()\n",
    "\n",
    "    # Dynamically find customer-related keys\n",
    "    customer_keys = find_customer_keys(json_data)\n",
    "\n",
    "    for key in customer_keys:\n",
    "        if isinstance(json_data[key], dict):\n",
    "            for sub_key, value in json_data[key].items():\n",
    "                if isinstance(value, dict):\n",
    "                    # Flatten nested dictionaries without including the customer key in column names\n",
    "                    flattened_data = flatten_dict(value, parent_key=key)\n",
    "                    for flat_key, flat_value in flattened_data.items():\n",
    "                        df.at[sub_key, flat_key] = flat_value\n",
    "                else:\n",
    "                    df.at[sub_key, key] = value\n",
    "\n",
    "    df.reset_index(inplace=True)\n",
    "    \n",
    "    df.rename(columns={'index': 'customer'}, inplace=True)\n",
    "\n",
    "    # Fill NaN values with 0, except for the 'Total' row\n",
    "    df.loc[df['customer'] != 'Total'] = df.loc[df['customer'] != 'Total'].fillna(0)\n",
    "\n",
    "    # Remove the existing 'Total' row if it exists\n",
    "    if 'Total' in df['customer'].values:\n",
    "        df = df[df['customer'] != 'Total']\n",
    "    \n",
    "    # Calculate the sum for each column to create a new 'Total' row\n",
    "    total_row = df.sum(numeric_only=True)\n",
    "    total_row['customer'] = 'Total'\n",
    "    df = pd.concat([df, pd.DataFrame(total_row).transpose()], ignore_index=True, axis=0)\n",
    "    \n",
    "    # Combine Davion \n",
    "    davion_total = df.loc[df['customer'].isin(['gcp-davion-prod_davion-production-usdt', \n",
    "                                               'gcp-davion-prod_davion-production']), \n",
    "                          df.columns != 'customer'].sum()\n",
    "    davion_total['customer'] = 'davion-total'\n",
    "    df = pd.concat([df, pd.DataFrame(davion_total).transpose()], ignore_index=True, axis=0)\n",
    "\n",
    "    return df\n"
   ]
  },
  {
   "cell_type": "code",
   "execution_count": 8,
   "id": "96a5bb84",
   "metadata": {},
   "outputs": [],
   "source": [
    "# Get the path of the current working directory\n",
    "current_folder = os.getcwd()\n",
    "\n",
    "# List all JSON files in the current folder\n",
    "json_files = [os.path.join(current_folder, file) for file in os.listdir(current_folder) if file.endswith('.json')]\n",
    "\n",
    "# Initialize an empty list to store DataFrames\n",
    "dfs = []\n",
    "\n",
    "# Process each JSON file\n",
    "for file_path in json_files:\n",
    "    with open(file_path, 'r') as file:\n",
    "        json_data = json.load(file)\n",
    "        df = json_to_csv(json_data)\n",
    "        dfs.append(df)\n"
   ]
  },
  {
   "cell_type": "code",
   "execution_count": 9,
   "id": "0372ac9b",
   "metadata": {},
   "outputs": [
    {
     "name": "stdout",
     "output_type": "stream",
     "text": [
      "Data saved to output_2023-11-27.csv\n"
     ]
    }
   ],
   "source": [
    "# aggregated JSONs\n",
    "combined_df = pd.concat(dfs, ignore_index=True)\n",
    "combined_df = combined_df.groupby('customer').sum().reset_index()\n",
    "\n",
    "# Get the current date\n",
    "current_date = datetime.now().strftime(\"%Y-%m-%d\")\n",
    "\n",
    "# Save the DataFrame to a new CSV, including the date in the filename\n",
    "csv_filename = f\"output_{current_date}.csv\"\n",
    "combined_df.to_csv(csv_filename)\n",
    "print(f\"Data saved to {csv_filename}\")\n",
    "\n"
   ]
  },
  {
   "cell_type": "code",
   "execution_count": null,
   "id": "2523b9a7",
   "metadata": {},
   "outputs": [],
   "source": []
  }
 ],
 "metadata": {
  "kernelspec": {
   "display_name": "Python 3 (ipykernel)",
   "language": "python",
   "name": "python3"
  },
  "language_info": {
   "codemirror_mode": {
    "name": "ipython",
    "version": 3
   },
   "file_extension": ".py",
   "mimetype": "text/x-python",
   "name": "python",
   "nbconvert_exporter": "python",
   "pygments_lexer": "ipython3",
   "version": "3.7.10"
  }
 },
 "nbformat": 4,
 "nbformat_minor": 5
}
